{
 "cells": [
  {
   "cell_type": "code",
   "execution_count": 34,
   "metadata": {
    "collapsed": false
   },
   "outputs": [
    {
     "name": "stdout",
     "output_type": "stream",
     "text": [
      "[['', 'year', 'month', 'intent', 'police', 'sex', 'age', 'race', 'hispanic', 'place', 'education'], ['1', '2012', '01', 'Suicide', '0', 'M', '34', 'Asian/Pacific Islander', '100', 'Home', '4'], ['2', '2012', '01', 'Suicide', '0', 'F', '21', 'White', '100', 'Street', '3'], ['3', '2012', '01', 'Suicide', '0', 'M', '60', 'White', '100', 'Other specified', '4'], ['4', '2012', '02', 'Suicide', '0', 'M', '64', 'White', '100', 'Home', '4']]\n"
     ]
    }
   ],
   "source": [
    "#Page 1\n",
    "'''\n",
    "Read the dataset in as a list using the csv module.\n",
    "Import the csv module.\n",
    "Open the file using the open() function.\n",
    "Use the csv.reader() function to load the opened file.\n",
    "Call list() on the result to get a list of all the data in the file.\n",
    "Assign the result to the variable data.\n",
    "Display the first 5 rows of data to verify everything.\n",
    "'''\n",
    "import csv\n",
    "f = open(\"guns.csv\", 'r')\n",
    "data = list(csv.reader(f))\n",
    "print(data[:5])"
   ]
  },
  {
   "cell_type": "code",
   "execution_count": 35,
   "metadata": {
    "collapsed": false
   },
   "outputs": [
    {
     "name": "stdout",
     "output_type": "stream",
     "text": [
      "['1', '2012', '01', 'Suicide', '0', 'M', '34', 'Asian/Pacific Islander', '100', 'Home', '4']\n",
      "[['1', '2012', '01', 'Suicide', '0', 'M', '34', 'Asian/Pacific Islander', '100', 'Home', '4'], ['2', '2012', '01', 'Suicide', '0', 'F', '21', 'White', '100', 'Street', '3'], ['3', '2012', '01', 'Suicide', '0', 'M', '60', 'White', '100', 'Other specified', '4'], ['4', '2012', '02', 'Suicide', '0', 'M', '64', 'White', '100', 'Home', '4'], ['5', '2012', '02', 'Suicide', '0', 'M', '31', 'White', '100', 'Other specified', '2']]\n"
     ]
    }
   ],
   "source": [
    "#Page 2\n",
    "'''\n",
    "Extract the first row of data, and assign it to the variable headers.\n",
    "Remove the first row from data.\n",
    "Display headers.\n",
    "Display the first 5 rows of data to verify that you removed the header row properly.\n",
    "'''\n",
    "headers = data[1]\n",
    "data = data[1:len(data)]\n",
    "print(headers)\n",
    "print(data[:5])"
   ]
  },
  {
   "cell_type": "code",
   "execution_count": 36,
   "metadata": {
    "collapsed": false
   },
   "outputs": [
    {
     "data": {
      "text/plain": [
       "{'2012': 33563, '2013': 33636, '2014': 33599}"
      ]
     },
     "execution_count": 36,
     "metadata": {},
     "output_type": "execute_result"
    }
   ],
   "source": [
    "#Page 3\n",
    "'''\n",
    "Use a list comprehension to extract the year column from data.\n",
    "Because the year column is the second column in the data, you'll need to get the element at index 1 in each row.\n",
    "Assign the result to the variable years.\n",
    "Create an empty dictionary called year_counts.\n",
    "Loop through each element in years.\n",
    "If the element isn't a key in year_counts, create it, and set the value to 1.\n",
    "If the element is a key in year_counts, increment the value by one.\n",
    "Display year_counts to see how many gun deaths occur in each year.\n",
    "'''\n",
    "years = [row[1] for row in data]\n",
    "year_counts ={}\n",
    "for y in years:\n",
    "    if y in year_counts:\n",
    "        year_counts[y] += 1\n",
    "    else:\n",
    "        year_counts[y] = 1\n",
    "year_counts"
   ]
  },
  {
   "cell_type": "code",
   "execution_count": 37,
   "metadata": {
    "collapsed": false
   },
   "outputs": [
    {
     "data": {
      "text/plain": [
       "{datetime.datetime(2012, 1, 22, 0, 0): 2758,\n",
       " datetime.datetime(2012, 2, 22, 0, 0): 2357,\n",
       " datetime.datetime(2012, 3, 22, 0, 0): 2743,\n",
       " datetime.datetime(2012, 4, 22, 0, 0): 2795,\n",
       " datetime.datetime(2012, 5, 22, 0, 0): 2999,\n",
       " datetime.datetime(2012, 6, 22, 0, 0): 2826,\n",
       " datetime.datetime(2012, 7, 22, 0, 0): 3026,\n",
       " datetime.datetime(2012, 8, 22, 0, 0): 2954,\n",
       " datetime.datetime(2012, 9, 22, 0, 0): 2852,\n",
       " datetime.datetime(2012, 10, 22, 0, 0): 2733,\n",
       " datetime.datetime(2012, 11, 22, 0, 0): 2729,\n",
       " datetime.datetime(2012, 12, 22, 0, 0): 2791,\n",
       " datetime.datetime(2013, 1, 22, 0, 0): 2864,\n",
       " datetime.datetime(2013, 2, 22, 0, 0): 2375,\n",
       " datetime.datetime(2013, 3, 22, 0, 0): 2862,\n",
       " datetime.datetime(2013, 4, 22, 0, 0): 2798,\n",
       " datetime.datetime(2013, 5, 22, 0, 0): 2806,\n",
       " datetime.datetime(2013, 6, 22, 0, 0): 2920,\n",
       " datetime.datetime(2013, 7, 22, 0, 0): 3079,\n",
       " datetime.datetime(2013, 8, 22, 0, 0): 2859,\n",
       " datetime.datetime(2013, 9, 22, 0, 0): 2742,\n",
       " datetime.datetime(2013, 10, 22, 0, 0): 2808,\n",
       " datetime.datetime(2013, 11, 22, 0, 0): 2758,\n",
       " datetime.datetime(2013, 12, 22, 0, 0): 2765,\n",
       " datetime.datetime(2014, 1, 22, 0, 0): 2651,\n",
       " datetime.datetime(2014, 2, 22, 0, 0): 2361,\n",
       " datetime.datetime(2014, 3, 22, 0, 0): 2684,\n",
       " datetime.datetime(2014, 4, 22, 0, 0): 2862,\n",
       " datetime.datetime(2014, 5, 22, 0, 0): 2864,\n",
       " datetime.datetime(2014, 6, 22, 0, 0): 2931,\n",
       " datetime.datetime(2014, 7, 22, 0, 0): 2884,\n",
       " datetime.datetime(2014, 8, 22, 0, 0): 2970,\n",
       " datetime.datetime(2014, 9, 22, 0, 0): 2914,\n",
       " datetime.datetime(2014, 10, 22, 0, 0): 2865,\n",
       " datetime.datetime(2014, 11, 22, 0, 0): 2756,\n",
       " datetime.datetime(2014, 12, 22, 0, 0): 2857}"
      ]
     },
     "execution_count": 37,
     "metadata": {},
     "output_type": "execute_result"
    }
   ],
   "source": [
    "#Page 4\n",
    "'''\n",
    "Use a list comprehension to create a datetime.datetime object for each row. Assign the result to dates.\n",
    "The year column is in the second element in each row.\n",
    "The month column is the third element in each row.\n",
    "Make sure to convert year and month to integers using int().\n",
    "Pass year, month, and day=1 into the datetime.datetime() function.\n",
    "Display the first 5 rows in dates to verify everything worked.\n",
    "Count up how many times each unique date occurs in dates. Assign the result to date_counts.\n",
    "This follows a similar procedure to what we did in the last screen with year_counts.\n",
    "Display date_counts.\n",
    "'''\n",
    "import datetime as dt\n",
    "current_datetime = dt.datetime.utcnow()\n",
    "current_datetime\n",
    "\n",
    "for row in data:\n",
    "    #print(row[2])\n",
    "    row_dateTime = dt.datetime(year = int(row[1]), month = int(row[2]), day  = 22)\n",
    "    ##print(row_dateTime)\n",
    "    row.append(row_dateTime)\n",
    "date_count = {}\n",
    "for row in data:\n",
    "    if row[11] in date_count:\n",
    "        date_count[row[11]] = date_count[row[11]] + 1\n",
    "    else:\n",
    "        date_count[row[11]] = 1\n",
    "date_count\n",
    "    "
   ]
  },
  {
   "cell_type": "code",
   "execution_count": 38,
   "metadata": {
    "collapsed": false
   },
   "outputs": [
    {
     "name": "stdout",
     "output_type": "stream",
     "text": [
      "{'M': 86349, 'F': 14449}\n",
      "{'Hispanic': 9022, 'White': 66237, 'Asian/Pacific Islander': 1326, 'Native American/Native Alaskan': 917, 'Black': 23296}\n"
     ]
    }
   ],
   "source": [
    "#Page 5\n",
    "'''\n",
    "Count up how many times each item in the sex column occurs.\n",
    "Assign the result to sex_counts.\n",
    "Count up how many times each item in the race column occurs.\n",
    "Assign the result to race_counts.\n",
    "Display race_counts and sex_counts to verify your work, and see if you can spot any patterns.\n",
    "Write a markdown cell detailing what you've learned so far, and what you think might need further examination\n",
    "'''\n",
    "sex_counts = {}\n",
    "race_counts = {}\n",
    "for row in data:\n",
    "    if row[5] in sex_counts:\n",
    "        sex_counts[row[5]] += 1\n",
    "    else:\n",
    "        sex_counts[row[5]] = 1\n",
    "    if row[7] in race_counts:\n",
    "        race_counts[row[7]] += 1\n",
    "    else:\n",
    "        race_counts[row[7]] = 1\n",
    "print(sex_counts)\n",
    "print(race_counts)"
   ]
  },
  {
   "cell_type": "code",
   "execution_count": 60,
   "metadata": {
    "collapsed": false
   },
   "outputs": [
    {
     "data": {
      "text/plain": [
       "[['Id',\n",
       "  'Year',\n",
       "  'Id',\n",
       "  'Sex',\n",
       "  'Id',\n",
       "  'Hispanic Origin',\n",
       "  'Id',\n",
       "  'Id2',\n",
       "  'Geography',\n",
       "  'Total',\n",
       "  'Race Alone - White',\n",
       "  'Race Alone - Hispanic',\n",
       "  'Race Alone - Black or African American',\n",
       "  'Race Alone - American Indian and Alaska Native',\n",
       "  'Race Alone - Asian',\n",
       "  'Race Alone - Native Hawaiian and Other Pacific Islander',\n",
       "  'Two or More Races'],\n",
       " ['cen42010',\n",
       "  'April 1, 2010 Census',\n",
       "  'totsex',\n",
       "  'Both Sexes',\n",
       "  'tothisp',\n",
       "  'Total',\n",
       "  '0100000US',\n",
       "  '',\n",
       "  'United States',\n",
       "  '308745538',\n",
       "  '197318956',\n",
       "  '44618105',\n",
       "  '40250635',\n",
       "  '3739506',\n",
       "  '15159516',\n",
       "  '674625',\n",
       "  '6984195']]"
      ]
     },
     "execution_count": 60,
     "metadata": {},
     "output_type": "execute_result"
    }
   ],
   "source": [
    "#Page 6\n",
    "'''\n",
    "Read in census.csv, and convert to a list of lists. Assign the result to the census variable.\n",
    "Display census to verify your work.\n",
    "'''\n",
    "census = list(csv.reader(open(\"census.csv\", 'r')))\n",
    "census"
   ]
  },
  {
   "cell_type": "code",
   "execution_count": 80,
   "metadata": {
    "collapsed": false
   },
   "outputs": [
    {
     "name": "stdout",
     "output_type": "stream",
     "text": [
      "{'Hispanic': 20.220491210910907, 'Asian/Pacific Islander': 8.374309664161762, 'White': 33.56849303419181, 'Black': 57.8773477735196, 'Native American/Native Alaskan': 24.521955573811088}\n"
     ]
    }
   ],
   "source": [
    "#Page 7\n",
    "'''\n",
    "Manually create a dictionary, mapping that maps each key from race_counts to the population count of the race from census.\n",
    "The keys in the dictionary should be Asian/Pacific Islander, Black, Native American/Native Alaskan, Hispanic, and White.\n",
    "In the case of Asian/Pacific Islander, you'll need to add the counts from census for Race Alone - Asian, and Race Alone - Native Hawaiian and Other Pacific Islander.\n",
    "Create an empty dictionary, race_per_hundredk.\n",
    "Loop through each key in race_counts.\n",
    "Divide the value associated with the key in race_counts by the value associated with the key in mapping.\n",
    "Multiply by 100000.\n",
    "Assign the result to the same key in race_per_hundredk.\n",
    "When you're done, race_per_hundredk should contain the rate of gun deaths per 100000 people for each racial category.\n",
    "Print race_per_hundredk to verify your work.\n",
    "'''\n",
    "mapping = {}\n",
    "newCensus = list(census[1])\n",
    "mapping[\"White\"] = int(newCensus[10])\n",
    "mapping[\"Hispanic\"] = int(newCensus[11])\n",
    "mapping[\"Black\"] = int(newCensus[12])\n",
    "mapping[\"Native American/Native Alaskan\"] = int(newCensus[13])\n",
    "mapping[\"Asian/Pacific Islander\"] = int(newCensus[14]) + int(newCensus[15])\n",
    "\n",
    "race_per_hundredk = {}\n",
    "for row in race_counts:\n",
    "    race_per_hundredk[row] = (race_counts[row] / mapping[row]) * 100000\n",
    "print(race_per_hundredk)"
   ]
  },
  {
   "cell_type": "code",
   "execution_count": 85,
   "metadata": {
    "collapsed": false
   },
   "outputs": [
    {
     "name": "stdout",
     "output_type": "stream",
     "text": [
      "{'Hispanic': 12.627161104219914, 'Asian/Pacific Islander': 3.530346230970155, 'White': 4.6356417981453335, 'Black': 48.471284987180944, 'Native American/Native Alaskan': 8.717729026240365}\n"
     ]
    }
   ],
   "source": [
    "#Page 8:\n",
    "'''\n",
    "Extract the intent column using a list comprehension. The intent column is the fourth column in data.\n",
    "Assign the result to intents.\n",
    "Extract the race column using a list comprehension. The race column is the eighth column in data.\n",
    "Assign the result to races.\n",
    "Create an empty dictionary called homicide_race_counts\n",
    "Use the enumerate() function to loop through each item in races. The position should be assigned to the loop variable i, and the value to the loop variable race.\n",
    "Check the value at position i in intents.\n",
    "If the value at position i in intents is Homicide:\n",
    "If the key race doesn't exist in homicide_race_counts, create it.\n",
    "Add 1 to the value associated with race in homicide_race_counts.\n",
    "When you're done, homicide_race_counts should have one key for each of the racial categories in data. The associated value should be the number of gun deaths by homicide for that race.\n",
    "Perform the same procedure we did in the last screen using mapping on homicide_race_counts to get from raw numbers to rates per 100000.\n",
    "Display homicide_race_counts to verify your work.\n",
    "Write up your findings in a markdown cell.\n",
    "Write up any next steps you want to pursue with the data in a markdown cell.\n",
    "'''\n",
    "intents = [row[3] for row in data]\n",
    "races = [row[7] for row in data]\n",
    "homicide_race_counts = {}\n",
    "for i, race in enumerate(races):\n",
    "    if intents[i] ==\"Homicide\":\n",
    "        if race in homicide_race_counts:\n",
    "            homicide_race_counts[race] += 1\n",
    "        else:\n",
    "            homicide_race_counts[race] = 1\n",
    "\n",
    "race_per_hundredk2 = {}\n",
    "for row in homicide_race_counts:\n",
    "    race_per_hundredk2[row] = (homicide_race_counts[row] / mapping[row]) * 100000\n",
    "print(race_per_hundredk2)\n",
    "\n",
    "## Look at the number of blacks who are killed by a gun in a homicide"
   ]
  },
  {
   "cell_type": "code",
   "execution_count": null,
   "metadata": {
    "collapsed": true
   },
   "outputs": [],
   "source": []
  }
 ],
 "metadata": {
  "kernelspec": {
   "display_name": "Python 3",
   "language": "python",
   "name": "python3"
  },
  "language_info": {
   "codemirror_mode": {
    "name": "ipython",
    "version": 3
   },
   "file_extension": ".py",
   "mimetype": "text/x-python",
   "name": "python",
   "nbconvert_exporter": "python",
   "pygments_lexer": "ipython3",
   "version": "3.4.3"
  }
 },
 "nbformat": 4,
 "nbformat_minor": 0
}
